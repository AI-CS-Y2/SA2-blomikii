{
 "cells": [
  {
   "cell_type": "code",
   "execution_count": 1,
   "metadata": {},
   "outputs": [
    {
     "name": "stdout",
     "output_type": "stream",
     "text": [
      "\n",
      "Enter the following feature values for prediction:\n"
     ]
    },
    {
     "name": "stderr",
     "output_type": "stream",
     "text": [
      "c:\\Users\\Rianne\\AppData\\Local\\Programs\\Python\\Python312\\Lib\\site-packages\\sklearn\\base.py:493: UserWarning: X does not have valid feature names, but LinearRegression was fitted with feature names\n",
      "  warnings.warn(\n",
      "c:\\Users\\Rianne\\AppData\\Local\\Programs\\Python\\Python312\\Lib\\site-packages\\sklearn\\base.py:493: UserWarning: X does not have valid feature names, but RandomForestRegressor was fitted with feature names\n",
      "  warnings.warn(\n"
     ]
    },
    {
     "name": "stdout",
     "output_type": "stream",
     "text": [
      "\n",
      "Predicted Solar Energy:\n",
      "Linear Regression: 0.84 kWh\n",
      "Random Forest Regression: 7.28 kWh\n",
      "Exiting program. Goodbye!\n"
     ]
    }
   ],
   "source": [
    "# IMPORTED LIBRARIES\n",
    "import pandas as pd                                                             # Used in accessing and reading the dataset\n",
    "from sklearn.model_selection import train_test_split                            # Training and testing sets\n",
    "from sklearn.linear_model import LinearRegression                               # The machine learning algorithm\n",
    "from sklearn.ensemble import RandomForestRegressor                              # The machine learning algorithm\n",
    "import numpy as np                                                              # Numerical computations\n",
    "\n",
    "\"\"\" USER-BASED INPUT SOLAR ENERGY PREDICTION \"\"\"\n",
    "\n",
    "# Loading the dataset\n",
    "data = pd.read_excel(r'01 - DATASET\\02 - AUH Weather 2023-2024 [REFINED].xlsx') # Bigger dataset\n",
    "\n",
    "# Selecting the variables and target\n",
    "X = data[['TEMP', 'HUMIDITY', 'SOLAR_RADIATION']]  # Features\n",
    "y = data['SOLAR_ENERGY']  # Target\n",
    "\n",
    "# Split dataset into training and testing sets\n",
    "X_train, X_test, y_train, y_test = train_test_split(X, y, test_size=0.2, random_state=42)\n",
    "\n",
    "# Train Linear Regression model\n",
    "linear_regression_model = LinearRegression()\n",
    "linear_regression_model.fit(X_train, y_train)\n",
    "\n",
    "# Train Random Forest Regression model\n",
    "random_forest_model = RandomForestRegressor(n_estimators=100, random_state=42)\n",
    "random_forest_model.fit(X_train, y_train)\n",
    "\n",
    "# Function to collect user input\n",
    "def get_user_input():\n",
    "    print(\"\\nEnter the following feature values for prediction:\")\n",
    "    try:\n",
    "        solar_radiation = float(input(\"Solar Radiation (kWh/m²): \"))\n",
    "        temperature = float(input(\"Temperature (°C): \"))\n",
    "        humidity = float(input(\"Humidity (%): \"))\n",
    "        return np.array([[solar_radiation, temperature, humidity]])\n",
    "    except ValueError:\n",
    "        print(\"Invalid input. Please enter numeric values.\")\n",
    "        return get_user_input()\n",
    "\n",
    "# Function to predict using both models\n",
    "def predict_solar_energy(features):\n",
    "    linear_pred = linear_regression_model.predict(features)[0]\n",
    "    random_forest_pred = random_forest_model.predict(features)[0]\n",
    "    return linear_pred, random_forest_pred\n",
    "\n",
    "# Execute solar energy output\n",
    "if __name__ == \"__main__\":\n",
    "    # User input and prediction\n",
    "    while True:\n",
    "        user_features = get_user_input()\n",
    "        linear_prediction, rf_prediction = predict_solar_energy(user_features)\n",
    "        \n",
    "        print(\"\\nPredicted Solar Energy:\")\n",
    "        print(f\"Linear Regression: {linear_prediction:.2f} kWh\")\n",
    "        print(f\"Random Forest Regression: {rf_prediction:.2f} kWh\")\n",
    "        \n",
    "        # Option to continue or exit\n",
    "        another = input(\"\\nWould you like to make another prediction? (YES/NO): \").strip().lower()\n",
    "        if another != \"yes\":\n",
    "            print(\"Exiting program. Goodbye!\")\n",
    "            break\n"
   ]
  }
 ],
 "metadata": {
  "kernelspec": {
   "display_name": "Python 3",
   "language": "python",
   "name": "python3"
  },
  "language_info": {
   "codemirror_mode": {
    "name": "ipython",
    "version": 3
   },
   "file_extension": ".py",
   "mimetype": "text/x-python",
   "name": "python",
   "nbconvert_exporter": "python",
   "pygments_lexer": "ipython3",
   "version": "3.12.6"
  }
 },
 "nbformat": 4,
 "nbformat_minor": 2
}
